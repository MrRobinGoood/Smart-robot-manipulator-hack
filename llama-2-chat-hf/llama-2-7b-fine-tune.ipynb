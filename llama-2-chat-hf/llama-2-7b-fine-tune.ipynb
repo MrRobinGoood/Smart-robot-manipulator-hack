{
 "cells": [
  {
   "cell_type": "code",
   "execution_count": null,
   "id": "7fe500fe-c897-44c5-90d2-49be30b43747",
   "metadata": {},
   "outputs": [],
   "source": []
  }
 ],
 "metadata": {
  "kernelspec": {
   "display_name": "DataSphere Kernel",
   "language": "python",
   "name": "python3"
  },
  "language_info": {
   "codemirror_mode": {
    "name": "ipython",
    "version": 3
   },
   "file_extension": ".py",
   "mimetype": "text/x-python",
   "name": "python",
   "nbconvert_exporter": "python",
   "pygments_lexer": "ipython3",
   "version": "3.7.7"
  }
 },
 "nbformat": 4,
 "nbformat_minor": 5
}
